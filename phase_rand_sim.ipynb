{
 "cells": [
  {
   "cell_type": "code",
   "execution_count": 83,
   "metadata": {},
   "outputs": [],
   "source": [
    "import numpy as np\n",
    "from brainiak.isc import isc\n",
    "from brainiak.utils.utils import phase_randomize\n",
    "import matplotlib.pyplot as plt\n",
    "import seaborn as sns\n",
    "from scipy.stats import ks_2samp"
   ]
  },
  {
   "cell_type": "code",
   "execution_count": 84,
   "metadata": {},
   "outputs": [],
   "source": [
    "# Set some reasonable dimensions for our dataset\n",
    "n_trs = 300\n",
    "n_vertices = 1 # can increase this to 10, but slow\n",
    "n_subjects = 20\n",
    "\n",
    "# Create random (normal) data\n",
    "noise_data = np.random.randn(n_trs, n_vertices, n_subjects)\n",
    "\n",
    "# Create data with signal across subjects and add noise\n",
    "signal = np.random.randn(n_trs, n_vertices)\n",
    "noise = 3\n",
    "signal_data = []\n",
    "for s in np.arange(n_subjects):\n",
    "    signal_data.append(signal + np.random.randn(n_trs, n_vertices) * noise)\n",
    "signal_data = np.dstack(signal_data)"
   ]
  },
  {
   "cell_type": "code",
   "execution_count": 90,
   "metadata": {},
   "outputs": [
    {
     "name": "stdout",
     "output_type": "stream",
     "text": [
      "Mean ISC for noise data: -0.017\n",
      "Mean ISC for signal data: 0.250\n"
     ]
    }
   ],
   "source": [
    "# Demonstrate that we actually have ISCs with signal data\n",
    "print(f\"Mean ISC for noise data: {np.mean(isc(noise_data)):.3f}\")\n",
    "print(f\"Mean ISC for signal data: {np.mean(isc(signal_data)):.3f}\")"
   ]
  },
  {
   "cell_type": "code",
   "execution_count": 91,
   "metadata": {},
   "outputs": [],
   "source": [
    "# Randomization with only test subject phase-shift\n",
    "def max_isc_avg_norand(data):\n",
    "    \n",
    "    # Grab N for easier loop\n",
    "    n_subjects = data.shape[2]\n",
    "    \n",
    "    # Loop through each subject\n",
    "    iscs_stack = []\n",
    "    for s in np.arange(n_subjects):\n",
    "\n",
    "        # Get left-out subject\n",
    "        subject = data[..., s]\n",
    "\n",
    "        # Randomize just the left-out subject\n",
    "        subject_randomized = phase_randomize(subject)\n",
    "\n",
    "        # Get average of other subjects with no randomization\n",
    "        others = np.mean([data[..., l] for l in\n",
    "                          np.arange(n_subjects)\n",
    "                          if l != s], axis=0)\n",
    "\n",
    "        # Depth-stack these to feed into ISC\n",
    "        isc_input = np.dstack((subject_randomized, others))\n",
    "\n",
    "        # Compute simplified ISC\n",
    "        iscs = isc(isc_input)\n",
    "        iscs_stack.append(iscs)\n",
    "\n",
    "    # Average ISCs for left-out subjects\n",
    "    avg_iscs = np.mean(iscs_stack, axis=0)\n",
    "    \n",
    "    # Get maximum ISC across vertices \n",
    "    max_isc = np.amax(avg_iscs)\n",
    "        \n",
    "    return max_isc"
   ]
  },
  {
   "cell_type": "code",
   "execution_count": 92,
   "metadata": {},
   "outputs": [],
   "source": [
    "# Randomization with all subjects phase-shift (prior to average)\n",
    "def max_isc_avg_rand(data):\n",
    "    \n",
    "    # Grab N for easier loop\n",
    "    n_subjects = data.shape[2]\n",
    "    \n",
    "    # Loop through each subject\n",
    "    iscs_stack = []\n",
    "    for s in np.arange(n_subjects):\n",
    "\n",
    "        # Randomize data for each subject prior to average\n",
    "        data_randomized = phase_randomize(data)\n",
    "        \n",
    "        # Get left-out subject\n",
    "        subject_randomized = data_randomized[..., s]\n",
    "\n",
    "        # Get average of other subjects with no randomization\n",
    "        others = np.mean([data_randomized[..., l] for l in\n",
    "                          np.arange(n_subjects)\n",
    "                          if l != s], axis=0)\n",
    "\n",
    "        # Depth-stack these to feed into ISC\n",
    "        isc_input = np.dstack((subject_randomized, others))\n",
    "\n",
    "        # Compute simplified ISC\n",
    "        iscs = isc(isc_input)\n",
    "        iscs_stack.append(iscs)\n",
    "\n",
    "    # Average ISCs for left-out subjects\n",
    "    avg_iscs = np.mean(iscs_stack, axis=0)\n",
    "    \n",
    "    # Get maximum ISC across vertices \n",
    "    max_isc = np.amax(avg_iscs)\n",
    "        \n",
    "    return max_isc"
   ]
  },
  {
   "cell_type": "code",
   "execution_count": 96,
   "metadata": {},
   "outputs": [
    {
     "data": {
      "text/plain": [
       "1"
      ]
     },
     "execution_count": 96,
     "metadata": {},
     "output_type": "execute_result"
    }
   ],
   "source": [
    "11 % 10"
   ]
  },
  {
   "cell_type": "code",
   "execution_count": 98,
   "metadata": {},
   "outputs": [
    {
     "name": "stdout",
     "output_type": "stream",
     "text": [
      "Finished 100 iterations\n",
      "Finished 200 iterations\n",
      "Finished 300 iterations\n",
      "Finished 400 iterations\n",
      "Finished 500 iterations\n",
      "Finished 600 iterations\n",
      "Finished 700 iterations\n",
      "Finished 800 iterations\n",
      "Finished 900 iterations\n",
      "Randomize only test subject, null distribution mean = 0.003, SD = 0.013\n",
      "Randomize all subjects prior to average, null distribution mean = 0.004, SD = 0.013\n"
     ]
    }
   ],
   "source": [
    "# Simple randomization iterations to create null distribution\n",
    "n_iter = 1000\n",
    "max_dist_norand = []\n",
    "max_dist_rand = []\n",
    "for i in np.arange(n_iter):\n",
    "    max_dist_norand.append(max_isc_avg_norand(signal_data))\n",
    "    max_dist_rand.append(max_isc_avg_rand(signal_data))\n",
    "    if i > 0 and i % 100 == 0:\n",
    "        print(f\"Finished {i} iterations\")\n",
    "print(\"Randomize only test subject, null distribution \"\n",
    "      f\"mean = {np.mean(max_dist_norand):.5f}, \"\n",
    "      f\"SD = {np.std(max_dist_norand):.5f}\")\n",
    "print(\"Randomize all subjects prior to average, null distribution \"\n",
    "      f\"mean = {np.mean(max_dist_rand):.5f}, \"\n",
    "      f\"SD = {np.std(max_dist_rand):.5f}\")"
   ]
  },
  {
   "cell_type": "code",
   "execution_count": 101,
   "metadata": {},
   "outputs": [
    {
     "data": {
      "text/plain": [
       "<matplotlib.legend.Legend at 0x112b3b0b8>"
      ]
     },
     "execution_count": 101,
     "metadata": {},
     "output_type": "execute_result"
    },
    {
     "data": {
      "image/png": "[encoded data removed]",
      "text/plain": [
       "<Figure size 432x288 with 1 Axes>"
      ]
     },
     "metadata": {
      "needs_background": "light"
     },
     "output_type": "display_data"
    }
   ],
   "source": [
    "# Plot distributions on top of \n",
    "sns.distplot(max_dist_norand, label=\"Randomize test subject\")\n",
    "sns.distplot(max_dist_rand, label=\"Randomize all subjects\")\n",
    "plt.legend()"
   ]
  },
  {
   "cell_type": "code",
   "execution_count": 102,
   "metadata": {},
   "outputs": [
    {
     "data": {
      "text/plain": [
       "Ks_2sampResult(statistic=0.07700000000000001, pvalue=0.004980209388706955)"
      ]
     },
     "execution_count": 102,
     "metadata": {},
     "output_type": "execute_result"
    }
   ],
   "source": [
    "# Kolmogorov-Smirnov test for different distributions\n",
    "ks_2samp(max_dist_norand, max_dist_rand)"
   ]
  }
 ],
 "metadata": {
  "kernelspec": {
   "display_name": "Python 3",
   "language": "python",
   "name": "python3"
  },
  "language_info": {
   "codemirror_mode": {
    "name": "ipython",
    "version": 3
   },
   "file_extension": ".py",
   "mimetype": "text/x-python",
   "name": "python",
   "nbconvert_exporter": "python",
   "pygments_lexer": "ipython3",
   "version": "3.7.3"
  }
 },
 "nbformat": 4,
 "nbformat_minor": 2
}
